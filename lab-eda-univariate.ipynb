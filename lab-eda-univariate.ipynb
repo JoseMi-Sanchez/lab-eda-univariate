{
 "cells": [
  {
   "cell_type": "code",
   "execution_count": null,
   "metadata": {},
   "outputs": [],
   "source": [
    "pip install seaborn\n",
    "import seaborn as sns\n",
    "import matplotlib.pyplot as plt\n",
    "import pandas as pd\n",
    "\n",
    "# Lee el archivo CSV\n",
    "df = pd.read_csv('amz_uk_price_prediction_dataset.csv')\n",
    "\n",
    "df"
   ]
  },
  {
   "cell_type": "markdown",
   "metadata": {},
   "source": [
    "### Part 1: Understanding Product Categories"
   ]
  },
  {
   "cell_type": "code",
   "execution_count": null,
   "metadata": {},
   "outputs": [],
   "source": [
    "df_category_frequency = df.category.value_counts()\n",
    "\n",
    "df_category_frequency"
   ]
  },
  {
   "cell_type": "code",
   "execution_count": null,
   "metadata": {},
   "outputs": [],
   "source": [
    "df.category.value_counts(normalize=True)"
   ]
  },
  {
   "cell_type": "code",
   "execution_count": null,
   "metadata": {},
   "outputs": [],
   "source": [
    "# Graficar el barplot directamente con las 20 categorías más comunes\n",
    "sns.barplot(x=df_category_frequency.index[:10], y=df_category_frequency.values[:10], palette=\"Set3\")\n",
    "\n",
    "# Mostrar la gráfica\n",
    "plt.xticks(rotation=90)  # Rotar etiquetas para que no se solapen\n",
    "plt.show()"
   ]
  },
  {
   "cell_type": "code",
   "execution_count": null,
   "metadata": {},
   "outputs": [],
   "source": [
    "# Crear un gráfico de pastel con las 10 categorías más comunes\n",
    "plt.figure(figsize=(8, 8))\n",
    "plt.pie(df_category_frequency.values[:10], labels=df_category_frequency.index[:10], autopct='%1.1f%%', colors=sns.color_palette(\"Set3\", 10))\n",
    "\n",
    "# Mostrar el gráfico\n",
    "plt.axis('equal')  # Asegurar que el gráfico sea un círculo\n",
    "plt.show()"
   ]
  },
  {
   "cell_type": "markdown",
   "metadata": {},
   "source": [
    "Las cinco categorías de producto más populares son:\n",
    "\n",
    "- Sports & Outdoors\n",
    "- Beauty\n",
    "- Handmade Clothing, Shoes & Accessories\n",
    "- Bath & Body\n",
    "- Birthday Gifts\n",
    "\n",
    "La primera de ellas tiene un porcentaje aplastantemente alto sobre el resto: un 34 % del total."
   ]
  },
  {
   "cell_type": "markdown",
   "metadata": {},
   "source": [
    "### Part 2: Delving into Product Pricing"
   ]
  },
  {
   "cell_type": "code",
   "execution_count": null,
   "metadata": {},
   "outputs": [],
   "source": [
    "df.price.describe().round(2)"
   ]
  },
  {
   "cell_type": "code",
   "execution_count": null,
   "metadata": {},
   "outputs": [],
   "source": [
    "df.price.mode()"
   ]
  },
  {
   "cell_type": "code",
   "execution_count": null,
   "metadata": {},
   "outputs": [],
   "source": [
    "# Visualización de la distribución de precios\n",
    "plt.figure(figsize=(12, 6))\n",
    "sns.histplot(df.price, kde=True, bins=50)\n",
    "plt.title('Distribución de Precios')\n",
    "plt.xlabel('Precio')\n",
    "plt.ylabel('Frecuencia')\n",
    "plt.show()\n",
    "\n",
    "# Visualización de la distribución de precios (escala logarítmica)\n",
    "plt.figure(figsize=(12, 6))\n",
    "sns.histplot(df.price, kde=True, bins=50, log_scale=True)\n",
    "plt.title('Distribución de Precios (Escala Logarítmica)')\n",
    "plt.xlabel('Precio (log)')\n",
    "plt.ylabel('Frecuencia')\n",
    "plt.show()\n",
    "\n",
    "# Boxplot de precios\n",
    "plt.figure(figsize=(12, 6))\n",
    "sns.boxplot(x=df.price)\n",
    "plt.title('Boxplot de Precios')\n",
    "plt.xlabel('Precio')\n",
    "plt.show()\n",
    "\n",
    "# Análisis de los precios por categoría (top 10 categorías)\n",
    "top_10_categories = df_category_frequency.index[:10]\n",
    "df_top_10 = df[df.category.isin(top_10_categories)]\n",
    "\n",
    "plt.figure(figsize=(14, 8))\n",
    "sns.boxplot(x='category', y='price', data=df_top_10)\n",
    "plt.title('Distribución de Precios por Categoría (Top 10)')\n",
    "plt.xticks(rotation=90)\n",
    "plt.ylabel('Precio')\n",
    "plt.show()"
   ]
  },
  {
   "cell_type": "code",
   "execution_count": null,
   "metadata": {},
   "outputs": [],
   "source": [
    "# Interpretación de los resultados\n",
    "print(\"Análisis de la variable 'price':\")\n",
    "print(\"1. La distribución de precios es altamente sesgada hacia la derecha, con una gran cantidad de productos de bajo precio y algunos productos de precio muy alto.\")\n",
    "print(\"2. La mediana del precio es de £14.99, lo que significa que el 50% de los productos tienen un precio igual o inferior a este valor.\")\n",
    "print(\"3. El precio promedio es de £24.97, significativamente más alto que la mediana debido a la influencia de los productos de alto precio.\")\n",
    "print(\"4. El 75% de los productos tienen un precio de £24.99 o menos (tercer cuartil).\")\n",
    "print(\"5. El precio máximo en el conjunto de datos es de £999.99, lo que explica la gran diferencia entre la media y la mediana.\")\n",
    "print(\"6. La visualización en escala logarítmica muestra que la distribución de precios es multimodal, con picos alrededor de £10, £20 y £30.\")\n",
    "print(\"7. El boxplot muestra una gran cantidad de valores atípicos en la parte superior de la distribución.\")\n",
    "print(\"8. Al analizar los precios por categoría, observamos que algunas categorías como 'Handmade Clothing, Shoes & Accessories' tienen una mayor variabilidad en los precios y tienden a tener precios más altos en comparación con otras categorías como 'Beauty' o 'Bath & Body'.\")\n",
    "\n",
    "# Conclusión\n",
    "print(\"\\nConclusión:\")\n",
    "print(\"El análisis de precios revela una gran variabilidad en los productos ofrecidos en Amazon UK. La mayoría de los productos tienen precios relativamente bajos, pero hay una cola larga de productos de alto precio que afectan significativamente el precio promedio. Las diferentes categorías de productos muestran patrones de precios distintos, lo que sugiere que el precio está fuertemente influenciado por la categoría del producto. Esta información puede ser valiosa para la predicción de precios, ya que indica que la categoría del producto debería ser un factor importante en cualquier modelo predictivo.\")"
   ]
  }
 ],
 "metadata": {
  "kernelspec": {
   "display_name": "Python 3",
   "language": "python",
   "name": "python3"
  },
  "language_info": {
   "codemirror_mode": {
    "name": "ipython",
    "version": 3
   },
   "file_extension": ".py",
   "mimetype": "text/x-python",
   "name": "python",
   "nbconvert_exporter": "python",
   "pygments_lexer": "ipython3",
   "version": "3.8.5"
  }
 },
 "nbformat": 4,
 "nbformat_minor": 4
}
